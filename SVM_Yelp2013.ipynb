{
  "nbformat": 4,
  "nbformat_minor": 0,
  "metadata": {
    "colab": {
      "name": "SVM_Yelp2013.ipynb",
      "version": "0.3.2",
      "provenance": [],
      "collapsed_sections": []
    },
    "kernelspec": {
      "name": "python3",
      "display_name": "Python 3"
    },
    "accelerator": "GPU"
  },
  "cells": [
    {
      "metadata": {
        "id": "DZwPLH5QB-wJ",
        "colab_type": "code",
        "outputId": "1fbad92f-cfcf-41bd-e04d-ab56fb3f39aa",
        "colab": {
          "base_uri": "https://localhost:8080/",
          "height": 124
        }
      },
      "cell_type": "code",
      "source": [
        "import pandas as pd\n",
        "import numpy as np\n",
        "\n",
        "import re\n",
        "\n",
        "np.random.seed(2)\n",
        "\n",
        "from sklearn.model_selection import train_test_split\n",
        "from sklearn.decomposition import PCA\n",
        "from sklearn.pipeline import Pipeline\n",
        "from sklearn.preprocessing import Normalizer\n",
        "from sklearn.model_selection import RandomizedSearchCV, GridSearchCV\n",
        "from sklearn.metrics import accuracy_score\n",
        "from sklearn.feature_extraction.text import CountVectorizer, TfidfTransformer\n",
        "from sklearn.naive_bayes import MultinomialNB\n",
        "from sklearn.svm import SVC, LinearSVC\n",
        "\n",
        "from google.colab import drive\n",
        "drive.mount('/content/drive')"
      ],
      "execution_count": 0,
      "outputs": [
        {
          "output_type": "stream",
          "text": [
            "Mounted at /content/drive\n"
          ],
          "name": "stdout"
        }
      ]
    },
    {
      "metadata": {
        "id": "VXN2WXKpCKjd",
        "colab_type": "code",
        "outputId": "34a46d15-643e-4f85-ddca-8bb10c9649a3",
        "colab": {
          "base_uri": "https://localhost:8080/",
          "height": 35
        }
      },
      "cell_type": "code",
      "source": [
        "cd /content/drive/My\\ Drive/Colab\\ Notebooks/dataset"
      ],
      "execution_count": 0,
      "outputs": [
        {
          "output_type": "stream",
          "text": [
            "/content/drive/My Drive/Colab Notebooks/dataset\n"
          ],
          "name": "stdout"
        }
      ]
    },
    {
      "metadata": {
        "id": "CK4NNM-QCpxc",
        "colab_type": "text"
      },
      "cell_type": "markdown",
      "source": [
        "## Load Data"
      ]
    },
    {
      "metadata": {
        "id": "-u7X08UDCob8",
        "colab_type": "code",
        "colab": {}
      },
      "cell_type": "code",
      "source": [
        "data = pd.read_csv('yelp2013.csv')"
      ],
      "execution_count": 0,
      "outputs": []
    },
    {
      "metadata": {
        "id": "e2EaTTtpldpM",
        "colab_type": "code",
        "colab": {}
      },
      "cell_type": "code",
      "source": [
        "msk = np.random.rand(len(data)) < 0.9\n",
        "train = data[msk]\n",
        "test = data[~msk]"
      ],
      "execution_count": 0,
      "outputs": []
    },
    {
      "metadata": {
        "id": "flIJu7qjQosV",
        "colab_type": "code",
        "outputId": "bc035793-db76-4509-f078-3c582ccb4c7d",
        "colab": {
          "base_uri": "https://localhost:8080/",
          "height": 35
        }
      },
      "cell_type": "code",
      "source": [
        "Y_train = train['stars'][:].values\n",
        "X_train = train['text'][:].values\n",
        "Y_test = test['stars'][:].values\n",
        "X_test = test['text'][:].values\n",
        "X_train.shape"
      ],
      "execution_count": 0,
      "outputs": [
        {
          "output_type": "execute_result",
          "data": {
            "text/plain": [
              "(301465,)"
            ]
          },
          "metadata": {
            "tags": []
          },
          "execution_count": 16
        }
      ]
    },
    {
      "metadata": {
        "id": "rjQ3XnBCPHtZ",
        "colab_type": "code",
        "colab": {}
      },
      "cell_type": "code",
      "source": [
        "import time\n",
        "\n",
        "from scipy.stats import uniform\n",
        "\n",
        "parameters_nbsvm = {\n",
        "    'vect__ngram_range': [(1,2), (1,3)],\n",
        "    'vect__min_df': [2],\n",
        "    'vect__max_df': [1.0],\n",
        "    'clf__beta': uniform(0,1),\n",
        "    'clf__alpha': uniform(.5,1),\n",
        "    'clf__C': uniform(30, 40)\n",
        "}\n",
        "pipeline_nbsvm = Pipeline([\n",
        "    ('vect', CountVectorizer()),\n",
        "    ('clf', NBSVM())\n",
        "])\n",
        "\n",
        "gs_nbsvm = RandomizedSearchCV(pipeline_nbsvm, parameters_nbsvm, \n",
        "                                   cv=5, scoring='accuracy', n_jobs=-1, verbose=50,\n",
        "                                 return_train_score=True, n_iter=20, random_state=62)\n",
        "start = time.time()\n",
        "gs_nbsvm.fit(X_train, Y_train)\n",
        "time.time()-start, gs_nbsvm.best_params_, gs_nbsvm.best_score_"
      ],
      "execution_count": 0,
      "outputs": []
    },
    {
      "metadata": {
        "id": "vR1e7QilQe6r",
        "colab_type": "text"
      },
      "cell_type": "markdown",
      "source": [
        "### Split into train/validation sets"
      ]
    },
    {
      "metadata": {
        "id": "upNHWRaQIZc2",
        "colab_type": "code",
        "colab": {}
      },
      "cell_type": "code",
      "source": [
        "random_seed = 2\n",
        "X_train, X_val, Y_train, Y_val = train_test_split(X_train, Y_train, test_size = 0.1, random_state=random_seed)"
      ],
      "execution_count": 0,
      "outputs": []
    },
    {
      "metadata": {
        "id": "qmT1Lk4AgnBM",
        "colab_type": "code",
        "colab": {}
      },
      "cell_type": "code",
      "source": [
        "del data\n",
        "del train\n",
        "del test"
      ],
      "execution_count": 0,
      "outputs": []
    },
    {
      "metadata": {
        "id": "tw2Q8i1sVv-I",
        "colab_type": "text"
      },
      "cell_type": "markdown",
      "source": [
        "### SVM"
      ]
    },
    {
      "metadata": {
        "id": "C4RwKsN6Vu7w",
        "colab_type": "code",
        "outputId": "cdea634a-2e37-4023-fe43-00cf7d74587d",
        "colab": {
          "base_uri": "https://localhost:8080/",
          "height": 35
        }
      },
      "cell_type": "code",
      "source": [
        "lsvm = Pipeline([\n",
        "    ('vect', CountVectorizer(ngram_range=(1,1))),\n",
        "    #('tfidf', TfidfTransformer()),\n",
        "    ('norm', Normalizer()),\n",
        "    ('clf', LinearSVC(random_state = 0, tol = 1e-7)),\n",
        "])\n",
        "\n",
        "lsvm.fit(X_train, Y_train)\n",
        "y_pred = lsvm.predict(X_test)\n",
        "print('SVM-unigram Accuracy', accuracy_score(Y_test, y_pred))"
      ],
      "execution_count": 0,
      "outputs": [
        {
          "output_type": "stream",
          "text": [
            "SVM-unigram Accuracy 0.6734517494188472\n"
          ],
          "name": "stdout"
        }
      ]
    },
    {
      "metadata": {
        "id": "G0KhjPLepBoC",
        "colab_type": "code",
        "outputId": "86c188a2-838c-4cd8-a49b-127202b16df8",
        "colab": {
          "base_uri": "https://localhost:8080/",
          "height": 35
        }
      },
      "cell_type": "code",
      "source": [
        "lsvm2 = Pipeline([\n",
        "    ('vect', CountVectorizer(ngram_range=(2,2))),\n",
        "    ('norm', Normalizer()),\n",
        "    ('clf', LinearSVC(random_state = 0, tol = 1e-7)),\n",
        "])\n",
        "\n",
        "lsvm2.fit(X_train, Y_train)\n",
        "y_pred = lsvm2.predict(X_test)\n",
        "print('SVM-bigram Accuracy', accuracy_score(Y_test, y_pred))"
      ],
      "execution_count": 0,
      "outputs": [
        {
          "output_type": "stream",
          "text": [
            "SVM-bigram Accuracy 0.6742564224831614\n"
          ],
          "name": "stdout"
        }
      ]
    },
    {
      "metadata": {
        "id": "5Nm_MAkTtLgk",
        "colab_type": "code",
        "outputId": "668d223a-71ee-4fad-9709-eebc7cac69cd",
        "colab": {
          "base_uri": "https://localhost:8080/",
          "height": 35
        }
      },
      "cell_type": "code",
      "source": [
        "lsvm3 = Pipeline([\n",
        "    ('vect', CountVectorizer(ngram_range=(1,2))),\n",
        "    ('norm', Normalizer()),\n",
        "    ('clf', LinearSVC(random_state = 0, tol = 1e-7)),\n",
        "])\n",
        "\n",
        "lsvm3.fit(X_train, Y_train)\n",
        "y_pred = lsvm3.predict(X_test)\n",
        "print('SVM-[uni,bi]gram Accuracy', accuracy_score(Y_test, y_pred))"
      ],
      "execution_count": 0,
      "outputs": [
        {
          "output_type": "stream",
          "text": [
            "SVM-[uni,bi]gram Accuracy 0.6913035703641891\n"
          ],
          "name": "stdout"
        }
      ]
    },
    {
      "metadata": {
        "id": "jQML1pWDxUKW",
        "colab_type": "code",
        "outputId": "07305f8b-e80d-469e-9d7d-b2b9035012ef",
        "colab": {
          "base_uri": "https://localhost:8080/",
          "height": 35
        }
      },
      "cell_type": "code",
      "source": [
        "lsvm4 = Pipeline([\n",
        "    ('vect', CountVectorizer(ngram_range=(1,3))),\n",
        "    ('norm', Normalizer()),\n",
        "    ('clf', LinearSVC(random_state = 0, tol = 1e-7)),\n",
        "])\n",
        "\n",
        "lsvm4.fit(X_train, Y_train)\n",
        "y_pred = lsvm4.predict(X_test)\n",
        "print('SVM-[uni,bi,tri]gram Accuracy', accuracy_score(Y_test, y_pred))"
      ],
      "execution_count": 0,
      "outputs": [
        {
          "output_type": "stream",
          "text": [
            "SVM-[uni,bi,tri]gram Accuracy 0.6941348274423318\n"
          ],
          "name": "stdout"
        }
      ]
    },
    {
      "metadata": {
        "id": "-7NdtQydUHGn",
        "colab_type": "code",
        "outputId": "25bce886-247e-433b-e8ed-df89aa218b47",
        "colab": {
          "base_uri": "https://localhost:8080/",
          "height": 35
        }
      },
      "cell_type": "code",
      "source": [
        "lsvm4 = Pipeline([\n",
        "    ('vect', CountVectorizer(ngram_range=(3,3))),\n",
        "    ('norm', Normalizer()),\n",
        "    ('clf', LinearSVC(random_state = 0, tol = 1e-7)),\n",
        "])\n",
        "\n",
        "lsvm4.fit(X_train, Y_train)\n",
        "y_pred = lsvm4.predict(X_test)\n",
        "print('SVM-trigram Accuracy', accuracy_score(Y_test, y_pred))"
      ],
      "execution_count": 0,
      "outputs": [
        {
          "output_type": "stream",
          "text": [
            "SVM-trigram Accuracy 0.6554211122369911\n"
          ],
          "name": "stdout"
        }
      ]
    },
    {
      "metadata": {
        "id": "a8280-RpxZJg",
        "colab_type": "code",
        "outputId": "ab6d4a97-9828-41d2-d480-c92b0ac81a82",
        "colab": {
          "base_uri": "https://localhost:8080/",
          "height": 35
        }
      },
      "cell_type": "code",
      "source": [
        "lsvm5 = Pipeline([\n",
        "    ('vect', CountVectorizer(2,2)),\n",
        "    ('tfidf', TfidfTransformer()),\n",
        "    ('norm', Normalizer()),\n",
        "    ('clf', LinearSVC(random_state = 0, tol = 1e-7)),\n",
        "])\n",
        "\n",
        "lsvm5.fit(X_train, Y_train)\n",
        "y_pred = lsvm5.predict(X_test)\n",
        "print('TF-IDF Accuracy', accuracy_score(Y_test, y_pred))"
      ],
      "execution_count": 0,
      "outputs": [
        {
          "output_type": "stream",
          "text": [
            "TF-IDF Accuracy 0.6646301484174763\n"
          ],
          "name": "stdout"
        }
      ]
    },
    {
      "metadata": {
        "id": "Zltl97J9hD6E",
        "colab_type": "code",
        "outputId": "b5c9c451-fb96-4888-faa5-20c3b0cec36a",
        "colab": {
          "base_uri": "https://localhost:8080/",
          "height": 35
        }
      },
      "cell_type": "code",
      "source": [
        "lsvm6 = Pipeline([\n",
        "    ('vect', CountVectorizer(1,2)),\n",
        "    ('tfidf', TfidfTransformer()),\n",
        "    ('norm', Normalizer()),\n",
        "    ('clf', LinearSVC(random_state = 0, tol = 1e-7)),\n",
        "])\n",
        "\n",
        "lsvm6.fit(X_train, Y_train)\n",
        "y_pred = lsvm6.predict(X_test)\n",
        "print('SVM-[uni,bi]-gram,TFIDF Accuracy', accuracy_score(Y_test, y_pred))"
      ],
      "execution_count": 0,
      "outputs": [
        {
          "output_type": "stream",
          "text": [
            "SVM-[uni,bi]-gram,TFIDF Accuracy 0.6646301484174763\n"
          ],
          "name": "stdout"
        }
      ]
    },
    {
      "metadata": {
        "id": "5S2mTto0-Pb6",
        "colab_type": "text"
      },
      "cell_type": "markdown",
      "source": [
        "### Multinomial Naive Bayes"
      ]
    },
    {
      "metadata": {
        "id": "VpkFndwhHlLW",
        "colab_type": "code",
        "outputId": "077512e0-797c-4a07-e5d9-b3d2b290fa7e",
        "colab": {
          "base_uri": "https://localhost:8080/",
          "height": 35
        }
      },
      "cell_type": "code",
      "source": [
        "mnb = Pipeline([\n",
        "    ('vect', CountVectorizer(ngram_range=(1,2))),\n",
        "    ('norm', Normalizer()),\n",
        "    ('clf', MultinomialNB(alpha=0.01)),\n",
        "])\n",
        "\n",
        "mnb.fit(X_train, Y_train)\n",
        "y_pred = mnb.predict(X_test)\n",
        "print('Multinomial NB Accuracy', accuracy_score(Y_test, y_pred))"
      ],
      "execution_count": 0,
      "outputs": [
        {
          "output_type": "stream",
          "text": [
            "Multinomial NB Accuracy 0.6479406330094772\n"
          ],
          "name": "stdout"
        }
      ]
    },
    {
      "metadata": {
        "id": "yk_I7Y2FNNKC",
        "colab_type": "code",
        "outputId": "86f10ea1-0ddb-4bf3-cdcd-baa26e1eb58b",
        "colab": {
          "base_uri": "https://localhost:8080/",
          "height": 35
        }
      },
      "cell_type": "code",
      "source": [
        "mnb2 = Pipeline([\n",
        "    ('vect', CountVectorizer(ngram_range=(1,2))),\n",
        "    ('tfidf', TfidfTransformer(use_idf=1,smooth_idf=1,sublinear_tf=1)),\n",
        "    ('norm', Normalizer()),\n",
        "    ('clf', MultinomialNB(alpha=0.01)),\n",
        "])\n",
        "\n",
        "mnb2.fit(X_train, Y_train)\n",
        "y_pred = mnb2.predict(X_test)\n",
        "print('Multinomial NB Accuracy', accuracy_score(Y_test, y_pred))"
      ],
      "execution_count": 0,
      "outputs": [
        {
          "output_type": "stream",
          "text": [
            "Multinomial NB Accuracy 0.6368540263455922\n"
          ],
          "name": "stdout"
        }
      ]
    },
    {
      "metadata": {
        "id": "XXP1Sz_2OgeD",
        "colab_type": "code",
        "outputId": "805ba3fe-a7dc-4d7c-a3c6-cb2da70db886",
        "colab": {
          "base_uri": "https://localhost:8080/",
          "height": 1216
        }
      },
      "cell_type": "code",
      "source": [
        "import time \n",
        "\n",
        "parameters_mnv_bow = {\n",
        "    'vec__min_df': [1, 3],\n",
        "    'vec__max_df': [290000],\n",
        "    'vec__ngram_range':[(1, 2), (2, 2)],\n",
        "    'clf__alpha': [.5, .1, 2], \n",
        "}\n",
        "\n",
        "pipeline_mnv_bow = Pipeline([\n",
        "    ('vec', CountVectorizer()),\n",
        "    ('clf', MultinomialNB())\n",
        "])\n",
        "                  \n",
        "rs_mnv_bow = GridSearchCV(pipeline_mnv_bow, parameters_mnv_bow,\n",
        "                                   cv=5, scoring='accuracy', n_jobs=-1, verbose=50, return_train_score=True)\n",
        "start = time.time()\n",
        "rs_mnv_bow.fit(X_train, Y_train)\n",
        "time.time() - start, rs_mnv_bow.best_params_, rs_mnv_bow.best_score_"
      ],
      "execution_count": 0,
      "outputs": [
        {
          "output_type": "stream",
          "text": [
            "Fitting 5 folds for each of 12 candidates, totalling 60 fits\n",
            "[Parallel(n_jobs=-1)]: Using backend LokyBackend with 2 concurrent workers.\n",
            "[Parallel(n_jobs=-1)]: Done   1 tasks      | elapsed:  4.2min\n",
            "[Parallel(n_jobs=-1)]: Done   2 tasks      | elapsed:  4.2min\n",
            "[Parallel(n_jobs=-1)]: Done   3 tasks      | elapsed:  8.4min\n"
          ],
          "name": "stdout"
        },
        {
          "output_type": "stream",
          "text": [
            "/usr/local/lib/python3.6/dist-packages/sklearn/externals/joblib/externals/loky/process_executor.py:706: UserWarning: A worker stopped while some jobs were given to the executor. This can be caused by a too short worker timeout or by a memory leak.\n",
            "  \"timeout or by a memory leak.\", UserWarning\n"
          ],
          "name": "stderr"
        },
        {
          "output_type": "stream",
          "text": [
            "[Parallel(n_jobs=-1)]: Done   4 tasks      | elapsed:  8.5min\n",
            "[Parallel(n_jobs=-1)]: Done   5 tasks      | elapsed: 11.6min\n",
            "[Parallel(n_jobs=-1)]: Done   6 tasks      | elapsed: 12.6min\n",
            "[Parallel(n_jobs=-1)]: Done   7 tasks      | elapsed: 14.8min\n",
            "[Parallel(n_jobs=-1)]: Done   8 tasks      | elapsed: 15.7min\n",
            "[Parallel(n_jobs=-1)]: Done   9 tasks      | elapsed: 17.9min\n",
            "[Parallel(n_jobs=-1)]: Done  10 tasks      | elapsed: 18.8min\n",
            "[Parallel(n_jobs=-1)]: Done  11 tasks      | elapsed: 22.0min\n",
            "[Parallel(n_jobs=-1)]: Done  12 tasks      | elapsed: 22.9min\n",
            "[Parallel(n_jobs=-1)]: Done  13 tasks      | elapsed: 26.0min\n",
            "[Parallel(n_jobs=-1)]: Done  14 tasks      | elapsed: 27.0min\n",
            "[Parallel(n_jobs=-1)]: Done  15 tasks      | elapsed: 30.0min\n",
            "[Parallel(n_jobs=-1)]: Done  16 tasks      | elapsed: 30.1min\n",
            "[Parallel(n_jobs=-1)]: Done  17 tasks      | elapsed: 33.0min\n",
            "[Parallel(n_jobs=-1)]: Done  18 tasks      | elapsed: 33.1min\n",
            "[Parallel(n_jobs=-1)]: Done  19 tasks      | elapsed: 36.1min\n",
            "[Parallel(n_jobs=-1)]: Done  20 tasks      | elapsed: 36.2min\n",
            "[Parallel(n_jobs=-1)]: Done  21 tasks      | elapsed: 40.3min\n",
            "[Parallel(n_jobs=-1)]: Done  22 tasks      | elapsed: 40.4min\n",
            "[Parallel(n_jobs=-1)]: Done  23 tasks      | elapsed: 44.6min\n",
            "[Parallel(n_jobs=-1)]: Done  24 tasks      | elapsed: 44.7min\n",
            "[Parallel(n_jobs=-1)]: Done  25 tasks      | elapsed: 47.9min\n",
            "[Parallel(n_jobs=-1)]: Done  26 tasks      | elapsed: 48.8min\n",
            "[Parallel(n_jobs=-1)]: Done  27 tasks      | elapsed: 51.1min\n",
            "[Parallel(n_jobs=-1)]: Done  28 tasks      | elapsed: 52.0min\n",
            "[Parallel(n_jobs=-1)]: Done  29 tasks      | elapsed: 54.2min\n",
            "[Parallel(n_jobs=-1)]: Done  30 tasks      | elapsed: 55.2min\n",
            "[Parallel(n_jobs=-1)]: Done  31 tasks      | elapsed: 58.3min\n",
            "[Parallel(n_jobs=-1)]: Done  32 tasks      | elapsed: 59.3min\n",
            "[Parallel(n_jobs=-1)]: Done  33 tasks      | elapsed: 62.4min\n",
            "[Parallel(n_jobs=-1)]: Done  34 tasks      | elapsed: 63.4min\n",
            "[Parallel(n_jobs=-1)]: Done  35 tasks      | elapsed: 66.5min\n",
            "[Parallel(n_jobs=-1)]: Done  36 tasks      | elapsed: 66.5min\n",
            "[Parallel(n_jobs=-1)]: Done  37 tasks      | elapsed: 69.5min\n",
            "[Parallel(n_jobs=-1)]: Done  38 tasks      | elapsed: 69.5min\n",
            "[Parallel(n_jobs=-1)]: Done  39 tasks      | elapsed: 72.5min\n",
            "[Parallel(n_jobs=-1)]: Done  40 tasks      | elapsed: 72.6min\n",
            "[Parallel(n_jobs=-1)]: Done  41 tasks      | elapsed: 76.7min\n",
            "[Parallel(n_jobs=-1)]: Done  42 tasks      | elapsed: 76.8min\n",
            "[Parallel(n_jobs=-1)]: Done  43 tasks      | elapsed: 80.9min\n",
            "[Parallel(n_jobs=-1)]: Done  44 tasks      | elapsed: 81.0min\n",
            "[Parallel(n_jobs=-1)]: Done  45 tasks      | elapsed: 84.2min\n",
            "[Parallel(n_jobs=-1)]: Done  46 tasks      | elapsed: 85.1min\n",
            "[Parallel(n_jobs=-1)]: Done  47 tasks      | elapsed: 87.4min\n",
            "[Parallel(n_jobs=-1)]: Done  48 tasks      | elapsed: 88.3min\n",
            "[Parallel(n_jobs=-1)]: Done  49 tasks      | elapsed: 90.5min\n",
            "[Parallel(n_jobs=-1)]: Done  50 tasks      | elapsed: 91.4min\n",
            "[Parallel(n_jobs=-1)]: Done  51 tasks      | elapsed: 94.6min\n",
            "[Parallel(n_jobs=-1)]: Done  52 tasks      | elapsed: 95.5min\n",
            "[Parallel(n_jobs=-1)]: Done  53 tasks      | elapsed: 98.7min\n",
            "[Parallel(n_jobs=-1)]: Done  54 tasks      | elapsed: 99.5min\n",
            "[Parallel(n_jobs=-1)]: Done  55 tasks      | elapsed: 102.6min\n",
            "[Parallel(n_jobs=-1)]: Done  56 tasks      | elapsed: 102.7min\n",
            "[Parallel(n_jobs=-1)]: Done  57 tasks      | elapsed: 105.5min\n",
            "[Parallel(n_jobs=-1)]: Done  60 out of  60 | elapsed: 108.4min finished\n"
          ],
          "name": "stdout"
        },
        {
          "output_type": "execute_result",
          "data": {
            "text/plain": [
              "(6578.482490301132,\n",
              " {'clf__alpha': 2,\n",
              "  'vec__max_df': 290000,\n",
              "  'vec__min_df': 3,\n",
              "  'vec__ngram_range': (2, 2)},\n",
              " 0.6480992783375965)"
            ]
          },
          "metadata": {
            "tags": []
          },
          "execution_count": 34
        }
      ]
    },
    {
      "metadata": {
        "id": "tWtG0M4J-Tqw",
        "colab_type": "text"
      },
      "cell_type": "markdown",
      "source": [
        "### NBSVM"
      ]
    },
    {
      "metadata": {
        "id": "DLsrAjdj-Vvt",
        "colab_type": "code",
        "colab": {}
      },
      "cell_type": "code",
      "source": [
        "from scipy.sparse import spmatrix, coo_matrix\n",
        "from sklearn.base import BaseEstimator\n",
        "from sklearn.linear_model.base import LinearClassifierMixin, SparseCoefMixin\n",
        "from sklearn.svm import LinearSVC\n",
        "import numpy as np\n",
        "\n",
        "'''\n",
        "Implementation NBSVM from baselines and bigrams [1]. Code taken from [2].\n",
        "[1] https://nlp.stanford.edu/pubs/sidaw12_simple_sentiment.pdf\n",
        "[2] https://github.com/Joshua-Chin/nbsvm\n",
        "'''\n",
        "class NBSVM(BaseEstimator, LinearClassifierMixin, SparseCoefMixin):\n",
        "\n",
        "    def __init__(self, alpha=1, C=1, beta=0.25, fit_intercept=False):\n",
        "        self.alpha = alpha\n",
        "        self.C = C\n",
        "        self.beta = beta\n",
        "        self.fit_intercept = fit_intercept\n",
        "\n",
        "    def fit(self, X, y):\n",
        "        self.classes_ = np.unique(y)\n",
        "        if len(self.classes_) == 2:\n",
        "            coef_, intercept_ = self._fit_binary(X, y)\n",
        "            self.coef_ = coef_\n",
        "            self.intercept_ = intercept_\n",
        "        else:\n",
        "            coef_, intercept_ = zip(*[\n",
        "                self._fit_binary(X, y == class_)\n",
        "                for class_ in self.classes_\n",
        "            ])\n",
        "            self.coef_ = np.concatenate(coef_)\n",
        "            self.intercept_ = np.array(intercept_).flatten()\n",
        "        return self\n",
        "\n",
        "    def _fit_binary(self, X, y):\n",
        "        p = np.asarray(self.alpha + X[y == 1].sum(axis=0)).flatten()\n",
        "        q = np.asarray(self.alpha + X[y == 0].sum(axis=0)).flatten()\n",
        "        r = np.log(p / np.abs(p).sum()) - np.log(q / np.abs(q).sum())\n",
        "        b = np.log((y == 1).sum()) - np.log((y == 0).sum())\n",
        "\n",
        "        if isinstance(X, spmatrix):\n",
        "            indices = np.arange(len(r))\n",
        "            r_sparse = coo_matrix(\n",
        "                (r, (indices, indices)),\n",
        "                shape=(len(r), len(r))\n",
        "            )\n",
        "            X_scaled = X * r_sparse\n",
        "        else:\n",
        "            X_scaled = X * r\n",
        "\n",
        "        lsvc = LinearSVC(\n",
        "            C=self.C,\n",
        "            fit_intercept=self.fit_intercept,\n",
        "            max_iter=10000\n",
        "        ).fit(X_scaled, y)\n",
        "\n",
        "        mean_mag = np.abs(lsvc.coef_).mean()\n",
        "        coef_ = (1 - self.beta) * mean_mag * r + self.beta * (r * lsvc.coef_)\n",
        "        intercept_ = (1 - self.beta) * mean_mag * b + self.beta * lsvc.intercept_\n",
        "\n",
        "        return coef_, intercept_"
      ],
      "execution_count": 0,
      "outputs": []
    },
    {
      "metadata": {
        "id": "WGmPg4as-gsj",
        "colab_type": "code",
        "colab": {}
      },
      "cell_type": "code",
      "source": [
        "parameters_nbsvm = {\n",
        "    'vect__ngram_range': [(1,2), (1,3)],\n",
        "    'vect__min_df': [2],\n",
        "    'vect__max_df': [1.0],\n",
        "    'clf__beta': uniform(0,1),\n",
        "    'clf__alpha': uniform(.5,1),\n",
        "    'clf__C': uniform(30, 40)\n",
        "}\n",
        "pipeline_nbsvm = Pipeline([\n",
        "    ('vect', CountVectorizer()),\n",
        "    ('clf', NBSVM())\n",
        "])\n",
        "\n",
        "gs_nbsvm = RandomizedSearchCV(pipeline_nbsvm, parameters_nbsvm, \n",
        "                                   cv=5, scoring='accuracy', n_jobs=-1, verbose=3,\n",
        "                                 return_train_score=True, n_iter=20, random_state=62)\n",
        "start = time.time()\n",
        "gs_nbsvm.fit(X_train, Y_train)\n",
        "time.time()-start, gs_nbsvm.best_params_, gs_nbsvm.best_score_"
      ],
      "execution_count": 0,
      "outputs": []
    },
    {
      "metadata": {
        "id": "zZLISdWQhcdV",
        "colab_type": "text"
      },
      "cell_type": "markdown",
      "source": [
        "## Pre-processing Data\n",
        "\n"
      ]
    },
    {
      "metadata": {
        "id": "d8RPTyYhwYNx",
        "colab_type": "code",
        "colab": {}
      },
      "cell_type": "code",
      "source": [
        "data = pd.read_csv('yelp2013.csv')\n",
        "msk = np.random.rand(len(data)) < 0.9\n",
        "train = data[msk]\n",
        "test = data[~msk]"
      ],
      "execution_count": 0,
      "outputs": []
    },
    {
      "metadata": {
        "id": "yn9SUWxzwuvk",
        "colab_type": "code",
        "outputId": "31845f12-0d9c-42db-e143-9d64ec933ed1",
        "colab": {
          "base_uri": "https://localhost:8080/",
          "height": 35
        }
      },
      "cell_type": "code",
      "source": [
        "Y_train = train['stars']\n",
        "X_train_raw = train['text']\n",
        "Y_test = test['stars']\n",
        "X_test_raw = test['text']\n",
        "X_train_raw.shape"
      ],
      "execution_count": 0,
      "outputs": [
        {
          "output_type": "execute_result",
          "data": {
            "text/plain": [
              "(301465,)"
            ]
          },
          "metadata": {
            "tags": []
          },
          "execution_count": 6
        }
      ]
    },
    {
      "metadata": {
        "id": "tJxJrXPN89h0",
        "colab_type": "code",
        "colab": {}
      },
      "cell_type": "code",
      "source": [
        "del data\n",
        "del train\n",
        "del test"
      ],
      "execution_count": 0,
      "outputs": []
    },
    {
      "metadata": {
        "id": "7AQHKGrYhldw",
        "colab_type": "text"
      },
      "cell_type": "markdown",
      "source": [
        "#### remove HTML tags, remove stop words, stemming, lemmatization, one-hot encoding\n",
        "\n",
        "\n",
        "\n"
      ]
    },
    {
      "metadata": {
        "id": "xp5QI9clwQSt",
        "colab_type": "text"
      },
      "cell_type": "markdown",
      "source": [
        "#### Lowercase"
      ]
    },
    {
      "metadata": {
        "id": "6gbQAt5_9g78",
        "colab_type": "code",
        "outputId": "cd301fe4-fae6-485e-85cb-f38757e52031",
        "colab": {
          "base_uri": "https://localhost:8080/",
          "height": 121
        }
      },
      "cell_type": "code",
      "source": [
        "import nltk\n",
        "nltk.download('stopwords')\n",
        "nltk.download('wordnet')\n",
        "\n",
        "from nltk.corpus import stopwords\n",
        "stop = stopwords.words('english')\n",
        "\n",
        "nltk.download('wordnet')\n",
        "from nltk.stem import WordNetLemmatizer \n",
        "lm = WordNetLemmatizer()"
      ],
      "execution_count": 0,
      "outputs": [
        {
          "output_type": "stream",
          "text": [
            "[nltk_data] Downloading package stopwords to /root/nltk_data...\n",
            "[nltk_data]   Package stopwords is already up-to-date!\n",
            "[nltk_data] Downloading package wordnet to /root/nltk_data...\n",
            "[nltk_data]   Package wordnet is already up-to-date!\n",
            "[nltk_data] Downloading package wordnet to /root/nltk_data...\n",
            "[nltk_data]   Package wordnet is already up-to-date!\n"
          ],
          "name": "stdout"
        }
      ]
    },
    {
      "metadata": {
        "id": "oGtBinCL8mgH",
        "colab_type": "code",
        "colab": {}
      },
      "cell_type": "code",
      "source": [
        "def preprocess(dataset):\n",
        "    dataset.apply(lambda x: \" \".join(x.lower() for x in x.split()))               # lowercase\n",
        "    dataset.str.replace('[^\\w\\s]','')                                             # remove punctuations\n",
        "    dataset.apply(lambda x: \" \".join(x for x in x.split() if x not in stop))      # remove stopwords\n",
        "    dataset.apply(lambda x: \" \".join([lm.lemmatize(word) for word in x.split()])) # lemmatization\n",
        "    \n",
        "    return dataset"
      ],
      "execution_count": 0,
      "outputs": []
    },
    {
      "metadata": {
        "id": "nyhvuh5z-KJ8",
        "colab_type": "code",
        "colab": {}
      },
      "cell_type": "code",
      "source": [
        "X_train = preprocess(X_train_raw)\n",
        "X_test = preprocess(X_test_raw)\n",
        "\n",
        "del X_train_raw\n",
        "del X_test_raw"
      ],
      "execution_count": 0,
      "outputs": []
    },
    {
      "metadata": {
        "id": "fuZm-9FNQlep",
        "colab_type": "code",
        "colab": {}
      },
      "cell_type": "code",
      "source": [
        "import time\n",
        "start = time.time()\n",
        "\n",
        "nbsvm = Pipeline([\n",
        "    ('vect', CountVectorizer(ngram_range=(1,2))),\n",
        "    ('clf', NBSVM(C=41.29497015311559, alpha=0.7914671389502778, beta=0.5176297089108057))\n",
        "])\n",
        "nbsvm.fit(X_train, Y_train)\n",
        "y_pred = nbsvm.predict(X_test)\n",
        "print('NBSVM Accuracy', accuracy_score(Y_test, y_pred))\n",
        "print('Time Elapsed', time.time() - start)"
      ],
      "execution_count": 0,
      "outputs": []
    },
    {
      "metadata": {
        "id": "QPjYRrZEyQah",
        "colab_type": "text"
      },
      "cell_type": "markdown",
      "source": [
        "### Most frequent words"
      ]
    },
    {
      "metadata": {
        "id": "F6EqyOo0xDN_",
        "colab_type": "code",
        "outputId": "84761b8b-80f4-430c-850a-ad37aa8e0d3c",
        "colab": {
          "base_uri": "https://localhost:8080/",
          "height": 208
        }
      },
      "cell_type": "code",
      "source": [
        "freq = pd.Series(' '.join(X_train).split()).value_counts()\n",
        "freq[:10]"
      ],
      "execution_count": 0,
      "outputs": [
        {
          "output_type": "execute_result",
          "data": {
            "text/plain": [
              "food       154101\n",
              "good       145263\n",
              "place      144654\n",
              "great      129009\n",
              "service    107483\n",
              "like       104810\n",
              "time       102913\n",
              "get         97905\n",
              "one         96406\n",
              "would       90572\n",
              "dtype: int64"
            ]
          },
          "metadata": {
            "tags": []
          },
          "execution_count": 38
        }
      ]
    },
    {
      "metadata": {
        "id": "yTR8L2MbyTmp",
        "colab_type": "text"
      },
      "cell_type": "markdown",
      "source": [
        "### Least frequent words"
      ]
    },
    {
      "metadata": {
        "id": "7A51CPK2xPT0",
        "colab_type": "code",
        "outputId": "7d3aec86-58d5-4b05-e66b-87fec6b00fca",
        "colab": {
          "base_uri": "https://localhost:8080/",
          "height": 208
        }
      },
      "cell_type": "code",
      "source": [
        "freq[-10:]"
      ],
      "execution_count": 0,
      "outputs": [
        {
          "output_type": "execute_result",
          "data": {
            "text/plain": [
              "gljust              1\n",
              "fasttothetable      1\n",
              "chowfreakingmein    1\n",
              "shortversion        1\n",
              "helpanswer          1\n",
              "hudsonjust          1\n",
              "brazilparkersons    1\n",
              "runof               1\n",
              "godhow              1\n",
              "lukewarmwe          1\n",
              "dtype: int64"
            ]
          },
          "metadata": {
            "tags": []
          },
          "execution_count": 39
        }
      ]
    },
    {
      "metadata": {
        "id": "QKwL7P_k16ES",
        "colab_type": "text"
      },
      "cell_type": "markdown",
      "source": [
        "## Train with processed data"
      ]
    },
    {
      "metadata": {
        "id": "nCdHRSHS-d0u",
        "colab_type": "text"
      },
      "cell_type": "markdown",
      "source": [
        "### SVM"
      ]
    },
    {
      "metadata": {
        "id": "WHDY83-_zY2J",
        "colab_type": "code",
        "outputId": "1255d1e0-458f-45b7-8957-b474203c3255",
        "colab": {
          "base_uri": "https://localhost:8080/",
          "height": 35
        }
      },
      "cell_type": "code",
      "source": [
        "lsvm7 = Pipeline([\n",
        "    ('vect', CountVectorizer()),\n",
        "    ('tfidf', TfidfTransformer()),\n",
        "    ('norm', Normalizer()),\n",
        "    ('clf', LinearSVC(random_state = 0, tol = 1e-7)),\n",
        "])\n",
        "\n",
        "lsvm7.fit(X_train, Y_train)\n",
        "y_pred = lsvm7.predict(X_test)\n",
        "print('SVM-TFIDF Accuracy', accuracy_score(Y_test, y_pred))"
      ],
      "execution_count": 0,
      "outputs": [
        {
          "output_type": "stream",
          "text": [
            "SVM-TFIDF Accuracy 0.66762773831109\n"
          ],
          "name": "stdout"
        }
      ]
    },
    {
      "metadata": {
        "id": "lWo35gw3-SQo",
        "colab_type": "code",
        "outputId": "dec95861-d25b-4f85-d42b-f5d1e59396f2",
        "colab": {
          "base_uri": "https://localhost:8080/",
          "height": 35
        }
      },
      "cell_type": "code",
      "source": [
        "lsvm8 = Pipeline([\n",
        "    ('vect', CountVectorizer(ngram_range=(3,3))),\n",
        "    ('norm', Normalizer()),\n",
        "    ('clf', LinearSVC(random_state = 0, tol = 1e-7)),\n",
        "])\n",
        "\n",
        "lsvm8.fit(X_train, Y_train)\n",
        "y_pred = lsvm8.predict(X_test)\n",
        "print('SVM-trigram Accuracy', accuracy_score(Y_test, y_pred))"
      ],
      "execution_count": 0,
      "outputs": [
        {
          "output_type": "stream",
          "text": [
            "SVM-trigram Accuracy 0.6592954640281338\n"
          ],
          "name": "stdout"
        }
      ]
    },
    {
      "metadata": {
        "id": "gnOLjNP72C5_",
        "colab_type": "code",
        "outputId": "b407c671-9245-45e5-de92-a2d405074a3f",
        "colab": {
          "base_uri": "https://localhost:8080/",
          "height": 35
        }
      },
      "cell_type": "code",
      "source": [
        "lsvm8 = Pipeline([\n",
        "    ('vect', CountVectorizer(ngram_range=(1,2))),\n",
        "    ('norm', Normalizer()),\n",
        "    ('clf', LinearSVC(random_state = 0, tol = 1e-7)),\n",
        "])\n",
        "\n",
        "lsvm8.fit(X_train, Y_train)\n",
        "y_pred = lsvm8.predict(X_test)\n",
        "print('SVM-[uni,bi]-gram Accuracy', accuracy_score(Y_test, y_pred))"
      ],
      "execution_count": 0,
      "outputs": [
        {
          "output_type": "stream",
          "text": [
            "SVM-[uni,bi]-gram Accuracy 0.693963082959308\n"
          ],
          "name": "stdout"
        }
      ]
    },
    {
      "metadata": {
        "id": "2u8h-fh9CZkB",
        "colab_type": "code",
        "outputId": "0e433560-97f2-4d9a-b7e6-4e26cc9ff7d0",
        "colab": {
          "base_uri": "https://localhost:8080/",
          "height": 35
        }
      },
      "cell_type": "code",
      "source": [
        "lsvm9 = Pipeline([\n",
        "    ('vect', CountVectorizer(ngram_range=(1,1))),\n",
        "    ('norm', Normalizer()),\n",
        "    ('clf', LinearSVC(random_state = 0, tol = 1e-7)),\n",
        "])\n",
        "\n",
        "lsvm9.fit(X_train, Y_train)\n",
        "y_pred = lsvm9.predict(X_test)\n",
        "print('SVM-unigram Accuracy', accuracy_score(Y_test, y_pred))"
      ],
      "execution_count": 0,
      "outputs": [
        {
          "output_type": "stream",
          "text": [
            "SVM-unigram Accuracy 0.6758612489968195\n"
          ],
          "name": "stdout"
        }
      ]
    },
    {
      "metadata": {
        "id": "Bu4joJ30CgaT",
        "colab_type": "code",
        "outputId": "8d7b0852-d186-4995-c31a-9c930cae511d",
        "colab": {
          "base_uri": "https://localhost:8080/",
          "height": 35
        }
      },
      "cell_type": "code",
      "source": [
        "lsvm = Pipeline([\n",
        "    ('vect', CountVectorizer(ngram_range=(2,2))),\n",
        "    ('norm', Normalizer()),\n",
        "    ('clf', LinearSVC(random_state = 0, tol = 1e-7)),\n",
        "])\n",
        "\n",
        "lsvm.fit(X_train, Y_train)\n",
        "y_pred = lsvm.predict(X_test)\n",
        "print('SVM-bigram Accuracy', accuracy_score(Y_test, y_pred))"
      ],
      "execution_count": 0,
      "outputs": [
        {
          "output_type": "stream",
          "text": [
            "SVM-bigram Accuracy 0.6773474422613917\n"
          ],
          "name": "stdout"
        }
      ]
    },
    {
      "metadata": {
        "id": "wXSmYRvxE0w4",
        "colab_type": "code",
        "outputId": "44db53d1-b5dc-4e69-a52a-a8899e921296",
        "colab": {
          "base_uri": "https://localhost:8080/",
          "height": 35
        }
      },
      "cell_type": "code",
      "source": [
        "lsvm2 = Pipeline([\n",
        "    ('vect', CountVectorizer(ngram_range=(1,3))),\n",
        "    ('norm', Normalizer()),\n",
        "    ('clf', LinearSVC(random_state = 0, tol = 1e-7)),\n",
        "])\n",
        "\n",
        "lsvm2.fit(X_train, Y_train)\n",
        "y_pred = lsvm2.predict(X_test)\n",
        "print('SVM-[uni,bi,tri]gram Accuracy', accuracy_score(Y_test, y_pred))"
      ],
      "execution_count": 0,
      "outputs": [
        {
          "output_type": "stream",
          "text": [
            "SVM-[uni,bi,tri]gram Accuracy 0.6976488422554469\n"
          ],
          "name": "stdout"
        }
      ]
    },
    {
      "metadata": {
        "id": "MQoE-FIO-aEg",
        "colab_type": "text"
      },
      "cell_type": "markdown",
      "source": [
        "### Multinomial Naive Bayes"
      ]
    },
    {
      "metadata": {
        "id": "FlcXrJplGMeM",
        "colab_type": "code",
        "outputId": "f53acde9-f88e-4529-beb3-142750fef6f3",
        "colab": {
          "base_uri": "https://localhost:8080/",
          "height": 35
        }
      },
      "cell_type": "code",
      "source": [
        "mnb = Pipeline([\n",
        "    ('vect', CountVectorizer(ngram_range=(1,2), min_df=7)),\n",
        "    ('norm', Normalizer()),\n",
        "    ('clf', MultinomialNB(alpha=0.01)),\n",
        "])\n",
        "\n",
        "mnb.fit(X_train, Y_train)\n",
        "y_pred = mnb.predict(X_test)\n",
        "print('Multinomial NB Accuracy', accuracy_score(Y_test, y_pred))"
      ],
      "execution_count": 0,
      "outputs": [
        {
          "output_type": "stream",
          "text": [
            "Multinomial NB Accuracy 0.6563623933656333\n"
          ],
          "name": "stdout"
        }
      ]
    },
    {
      "metadata": {
        "id": "1qvGE5kyJaEm",
        "colab_type": "code",
        "outputId": "fbf75cda-d08a-40ce-97b3-421da98cff05",
        "colab": {
          "base_uri": "https://localhost:8080/",
          "height": 35
        }
      },
      "cell_type": "code",
      "source": [
        "mnb = Pipeline([\n",
        "    ('vect', CountVectorizer(ngram_range=(2,2), min_df=10)),\n",
        "    ('norm', Normalizer()),\n",
        "    ('clf', MultinomialNB(alpha=0.01)),\n",
        "])\n",
        "\n",
        "mnb.fit(X_train, Y_train)\n",
        "y_pred = mnb.predict(X_test)\n",
        "print('Multinomial NB Accuracy', accuracy_score(Y_test, y_pred))"
      ],
      "execution_count": 0,
      "outputs": [
        {
          "output_type": "stream",
          "text": [
            "Multinomial NB Accuracy 0.6573730047855423\n"
          ],
          "name": "stdout"
        }
      ]
    }
  ]
}
