{
  "nbformat": 4,
  "nbformat_minor": 0,
  "metadata": {
    "colab": {
      "name": "SVM_Yelp2015.ipynb",
      "version": "0.3.2",
      "provenance": [],
      "collapsed_sections": []
    },
    "kernelspec": {
      "name": "python3",
      "display_name": "Python 3"
    },
    "accelerator": "GPU"
  },
  "cells": [
    {
      "metadata": {
        "id": "DZwPLH5QB-wJ",
        "colab_type": "code",
        "outputId": "55e4ff20-2627-4244-fba9-9c73142c926f",
        "colab": {
          "base_uri": "https://localhost:8080/",
          "height": 124
        }
      },
      "cell_type": "code",
      "source": [
        "import pandas as pd\n",
        "import numpy as np\n",
        "\n",
        "import re\n",
        "\n",
        "np.random.seed(2)\n",
        "\n",
        "from sklearn.model_selection import train_test_split\n",
        "from sklearn.metrics import confusion_matrix\n",
        "from sklearn.pipeline import Pipeline\n",
        "from sklearn.preprocessing import Normalizer\n",
        "from sklearn.model_selection import RandomizedSearchCV, GridSearchCV\n",
        "from sklearn.metrics import accuracy_score\n",
        "from sklearn.feature_extraction.text import CountVectorizer, TfidfTransformer\n",
        "from sklearn.naive_bayes import MultinomialNB\n",
        "from sklearn.svm import SVC, LinearSVC\n",
        "\n",
        "from google.colab import drive\n",
        "drive.mount('/content/drive')"
      ],
      "execution_count": 0,
      "outputs": [
        {
          "output_type": "stream",
          "text": [
            "Mounted at /content/drive\n"
          ],
          "name": "stdout"
        }
      ]
    },
    {
      "metadata": {
        "id": "VXN2WXKpCKjd",
        "colab_type": "code",
        "outputId": "13d6a027-4ec7-4e1a-a56a-e3b5aa9db055",
        "colab": {
          "base_uri": "https://localhost:8080/",
          "height": 35
        }
      },
      "cell_type": "code",
      "source": [
        "cd /content/drive/My\\ Drive/Colab\\ Notebooks/dataset"
      ],
      "execution_count": 0,
      "outputs": [
        {
          "output_type": "stream",
          "text": [
            "/content/drive/My Drive/Colab Notebooks/dataset\n"
          ],
          "name": "stdout"
        }
      ]
    },
    {
      "metadata": {
        "id": "CK4NNM-QCpxc",
        "colab_type": "text"
      },
      "cell_type": "markdown",
      "source": [
        "## Load Data"
      ]
    },
    {
      "metadata": {
        "id": "-u7X08UDCob8",
        "colab_type": "code",
        "colab": {}
      },
      "cell_type": "code",
      "source": [
        "data = pd.read_csv('yelp2015.csv')"
      ],
      "execution_count": 0,
      "outputs": []
    },
    {
      "metadata": {
        "id": "e2EaTTtpldpM",
        "colab_type": "code",
        "colab": {}
      },
      "cell_type": "code",
      "source": [
        "msk = np.random.rand(len(data)) < 0.9\n",
        "train = data[msk]\n",
        "test = data[~msk]"
      ],
      "execution_count": 0,
      "outputs": []
    },
    {
      "metadata": {
        "id": "flIJu7qjQosV",
        "colab_type": "code",
        "colab": {}
      },
      "cell_type": "code",
      "source": [
        "Y_train = train['stars'][:].values\n",
        "X_train = train['text'][:].values\n",
        "Y_test = test['stars'][:].values\n",
        "X_test = test['text'][:].values"
      ],
      "execution_count": 0,
      "outputs": []
    },
    {
      "metadata": {
        "id": "vR1e7QilQe6r",
        "colab_type": "text"
      },
      "cell_type": "markdown",
      "source": [
        "### Split into train/validation sets"
      ]
    },
    {
      "metadata": {
        "id": "upNHWRaQIZc2",
        "colab_type": "code",
        "colab": {}
      },
      "cell_type": "code",
      "source": [
        "random_seed = 2\n",
        "X_train, X_val, Y_train, Y_val = train_test_split(X_train, Y_train, test_size = 0.1, random_state=random_seed)"
      ],
      "execution_count": 0,
      "outputs": []
    },
    {
      "metadata": {
        "id": "qmT1Lk4AgnBM",
        "colab_type": "code",
        "colab": {}
      },
      "cell_type": "code",
      "source": [
        "del data\n",
        "del train\n",
        "del test"
      ],
      "execution_count": 0,
      "outputs": []
    },
    {
      "metadata": {
        "id": "tw2Q8i1sVv-I",
        "colab_type": "text"
      },
      "cell_type": "markdown",
      "source": [
        "## SVM"
      ]
    },
    {
      "metadata": {
        "id": "C4RwKsN6Vu7w",
        "colab_type": "code",
        "outputId": "7dc0a438-a838-4b0f-fe13-b1613425b75f",
        "colab": {
          "base_uri": "https://localhost:8080/",
          "height": 35
        }
      },
      "cell_type": "code",
      "source": [
        "lsvm = Pipeline([\n",
        "    ('vect', CountVectorizer(ngram_range=(1,1))),\n",
        "    #('tfidf', TfidfTransformer()),\n",
        "    ('norm', Normalizer()),\n",
        "    ('clf', LinearSVC(random_state = 0, tol = 1e-7)),\n",
        "])\n",
        "\n",
        "lsvm.fit(X_train, Y_train)\n",
        "y_pred = lsvm.predict(X_test)\n",
        "print('SVM-unigram Accuracy', accuracy_score(Y_test, y_pred))"
      ],
      "execution_count": 0,
      "outputs": [
        {
          "output_type": "stream",
          "text": [
            "SVM-unigram Accuracy 0.681401234116889\n"
          ],
          "name": "stdout"
        }
      ]
    },
    {
      "metadata": {
        "id": "G0KhjPLepBoC",
        "colab_type": "code",
        "outputId": "3650b674-bf17-4d96-f0a2-e8ab6c07df96",
        "colab": {
          "base_uri": "https://localhost:8080/",
          "height": 35
        }
      },
      "cell_type": "code",
      "source": [
        "lsvm2 = Pipeline([\n",
        "    ('vect', CountVectorizer(ngram_range=(2,2))),\n",
        "    ('norm', Normalizer()),\n",
        "    ('clf', LinearSVC(random_state = 0, tol = 1e-7)),\n",
        "])\n",
        "\n",
        "lsvm2.fit(X_train, Y_train)\n",
        "y_pred = lsvm2.predict(X_test)\n",
        "print('SVM-bigram Accuracy', accuracy_score(Y_test, y_pred))"
      ],
      "execution_count": 0,
      "outputs": [
        {
          "output_type": "stream",
          "text": [
            "SVM-bigram Accuracy 0.6930051211201371\n"
          ],
          "name": "stdout"
        }
      ]
    },
    {
      "metadata": {
        "id": "5Nm_MAkTtLgk",
        "colab_type": "code",
        "outputId": "7b72cabd-abf5-4f25-b458-094418b98b5d",
        "colab": {
          "base_uri": "https://localhost:8080/",
          "height": 35
        }
      },
      "cell_type": "code",
      "source": [
        "lsvm3 = Pipeline([\n",
        "    ('vect', CountVectorizer(ngram_range=(1,2))),\n",
        "    ('norm', Normalizer()),\n",
        "    ('clf', LinearSVC(random_state = 0, tol = 1e-7)),\n",
        "])\n",
        "\n",
        "lsvm3.fit(X_train, Y_train)\n",
        "y_pred = lsvm3.predict(X_test)\n",
        "print('SVM-unigram-bigram Accuracy', accuracy_score(Y_test, y_pred))"
      ],
      "execution_count": 0,
      "outputs": [
        {
          "output_type": "stream",
          "text": [
            "SVM-unigram-bigram Accuracy 0.7053795009066575\n"
          ],
          "name": "stdout"
        }
      ]
    },
    {
      "metadata": {
        "id": "jQML1pWDxUKW",
        "colab_type": "code",
        "colab": {}
      },
      "cell_type": "code",
      "source": [
        "lsvm4 = Pipeline([\n",
        "    ('vect', CountVectorizer(ngram_range=(1,3))),\n",
        "    ('norm', Normalizer()),\n",
        "    ('clf', LinearSVC(random_state = 0, tol = 1e-7)),\n",
        "])\n",
        "\n",
        "lsvm4.fit(X_train, Y_train)\n",
        "y_pred = lsvm4.predict(X_test)\n",
        "print('SVM-ngram Accuracy', accuracy_score(Y_test, y_pred))"
      ],
      "execution_count": 0,
      "outputs": []
    },
    {
      "metadata": {
        "id": "a8280-RpxZJg",
        "colab_type": "code",
        "outputId": "a6da8cb4-3553-48a6-f2cb-5d302d9db5f4",
        "colab": {
          "base_uri": "https://localhost:8080/",
          "height": 35
        }
      },
      "cell_type": "code",
      "source": [
        "lsvm5 = Pipeline([\n",
        "    ('vect', CountVectorizer(2,2)),\n",
        "    ('tfidf', TfidfTransformer()),\n",
        "    ('norm', Normalizer()),\n",
        "    ('clf', LinearSVC(random_state = 0, tol = 1e-7)),\n",
        "])\n",
        "\n",
        "lsvm5.fit(X_train, Y_train)\n",
        "y_pred = lsvm5.predict(X_test)\n",
        "print('TF-IDF Accuracy', accuracy_score(Y_test, y_pred))"
      ],
      "execution_count": 0,
      "outputs": [
        {
          "output_type": "stream",
          "text": [
            "TF-IDF Accuracy 0.6756690334965095\n"
          ],
          "name": "stdout"
        }
      ]
    },
    {
      "metadata": {
        "id": "Zltl97J9hD6E",
        "colab_type": "code",
        "outputId": "7c1e14ed-fede-4dff-8492-57e1de7c8027",
        "colab": {
          "base_uri": "https://localhost:8080/",
          "height": 35
        }
      },
      "cell_type": "code",
      "source": [
        "lsvm6 = Pipeline([\n",
        "    ('vect', CountVectorizer(1,2)),\n",
        "    ('tfidf', TfidfTransformer()),\n",
        "    ('norm', Normalizer()),\n",
        "    ('clf', LinearSVC(random_state = 0, tol = 1e-7)),\n",
        "])\n",
        "\n",
        "lsvm6.fit(X_train, Y_train)\n",
        "y_pred = lsvm6.predict(X_test)\n",
        "print('SVM-[uni,bi]-gram,TFIDF Accuracy', accuracy_score(Y_test, y_pred))"
      ],
      "execution_count": 0,
      "outputs": [
        {
          "output_type": "stream",
          "text": [
            "SVM-[uni,bi]-gram,TFIDF Accuracy 0.6756690334965095\n"
          ],
          "name": "stdout"
        }
      ]
    },
    {
      "metadata": {
        "id": "9ZSkHTmd2AUy",
        "colab_type": "text"
      },
      "cell_type": "markdown",
      "source": [
        "## Multinomial NB"
      ]
    },
    {
      "metadata": {
        "id": "f3fpKUwv2DcC",
        "colab_type": "code",
        "outputId": "4340e334-134c-4099-82c5-e59cf3f74ea8",
        "colab": {
          "base_uri": "https://localhost:8080/",
          "height": 35
        }
      },
      "cell_type": "code",
      "source": [
        "mnb = Pipeline([\n",
        "    ('vect', CountVectorizer(ngram_range=(1,2))),\n",
        "    ('norm', Normalizer()),\n",
        "    ('clf', MultinomialNB(alpha=0.01)),\n",
        "])\n",
        "\n",
        "mnb.fit(X_train, Y_train)\n",
        "y_pred = mnb.predict(X_test)\n",
        "print('Multinomial NB Accuracy', accuracy_score(Y_test, y_pred))"
      ],
      "execution_count": 0,
      "outputs": [
        {
          "output_type": "stream",
          "text": [
            "Multinomial NB Accuracy 0.6537963375024078\n"
          ],
          "name": "stdout"
        }
      ]
    }
  ]
}
